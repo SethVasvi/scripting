{
 "cells": [
  {
   "cell_type": "code",
   "execution_count": 10,
   "metadata": {},
   "outputs": [
    {
     "name": "stdout",
     "output_type": "stream",
     "text": [
      "Enter Plain Text: 110101010\n",
      "Encrypted:  111100111\n",
      "Decrypted:  110101010\n"
     ]
    }
   ],
   "source": [
    "import random \n",
    "x=input(\"Enter Plain Text: \")\n",
    "\n",
    "key=[random.randint(0, 1)for i in range(len(x))]\n",
    "encmsg=\"\"\n",
    "decmsg=\"\"\n",
    "for i in range(len(x)):\n",
    "    encmsg+=str(int(x[i])^key[i])\n",
    "for i in range(len(x)):\n",
    "    decmsg+=str(int(encmsg[i])^key[i])    \n",
    "print(\"Encrypted: \",encmsg)\n",
    "print(\"Decrypted: \",decmsg)\n",
    "\n",
    "    \n",
    "    \n",
    "    \n",
    "    "
   ]
  },
  {
   "cell_type": "code",
   "execution_count": null,
   "metadata": {},
   "outputs": [],
   "source": []
  }
 ],
 "metadata": {
  "kernelspec": {
   "display_name": "Python 3",
   "language": "python",
   "name": "python3"
  },
  "language_info": {
   "codemirror_mode": {
    "name": "ipython",
    "version": 3
   },
   "file_extension": ".py",
   "mimetype": "text/x-python",
   "name": "python",
   "nbconvert_exporter": "python",
   "pygments_lexer": "ipython3",
   "version": "3.7.6"
  }
 },
 "nbformat": 4,
 "nbformat_minor": 4
}
