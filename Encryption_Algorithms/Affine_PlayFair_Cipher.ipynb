{
 "cells": [

  {
   "cell_type": "markdown",
   "metadata": {},
   "source": [
    "## Affine Cipher: \n",
    "The Affine Cipher is a Monoalphabetic Substitution cipher wherein\n",
    "each letter in an alphabet is mapped to its numeric equivalent, encrypted using a simple\n",
    "mathematical function, and converted back to a letter.\n",
    "- Encryption process for each letter is given by: c=ap+b (mod m)\n",
    "- Decryption process for each letter is given by: p=a<sup>-1</sup>(c-b) (mod m)"
   ]
  },
  {
   "cell_type": "code",
   "execution_count": 5,
   "metadata": {},
   "outputs": [
    {
     "name": "stdout",
     "output_type": "stream",
     "text": [
      "Enter the value of key a: 17\n",
      "Enter the value of key b: 20\n",
      "Enter the Message: hello\n",
      "Choose:\n",
      "1: Encrypt Message\n",
      "2: Decrypt Message\n",
      "1\n",
      "Encrypted Message:  jkzzy\n"
     ]
    }
   ],
   "source": [
    "a=int(input(\"Enter the value of key a: \"))\n",
    "b=int(input(\"Enter the value of key b: \"))\n",
    "msg=input(\"Enter the Message: \")\n",
    "option=int(input(\"Choose:\\n1: Encrypt Message\\n2: Decrypt Message\\n\"))\n",
    "def mulinverse():\n",
    "    for i in range(26):\n",
    "        if(a*i%26==1):\n",
    "            return i;\n",
    "a_inv=mulinverse()\n",
    "        \n",
    "def encrypt(ch):\n",
    "    if(ch.isupper()):\n",
    "            return chr((((ord(ch)-65)*a)+b)%26+65)\n",
    "    else:\n",
    "            return chr((((ord(ch)-97)*a)+b)%26+97)\n",
    "def decrypt(ch):\n",
    "    if(ch.isupper()):\n",
    "            return chr((a_inv*((ord(ch)-65)-b))%26+65)\n",
    "    else:\n",
    "            return chr(a_inv*((ord(ch)-97)-b)%26+97)\n",
    "        \n",
    "if(option==1):\n",
    "    encmsg=\"\"\n",
    "    for i in msg:\n",
    "        if(i==\" \"):\n",
    "            encmsg+=i\n",
    "        else:    \n",
    "            encmsg+=encrypt(i)\n",
    "    print(\"Encrypted Message: \",encmsg) \n",
    "else:\n",
    "    decmsg=\"\"\n",
    "    for i in msg:\n",
    "        if(i==\" \"):\n",
    "            decmsg+=i\n",
    "        else:    \n",
    "            encmsg+=decrypt(i)\n",
    "    print(\"Decrypted Message: \",decmsg)\n",
    "    "
   ]
  },
  {
   "cell_type": "markdown",
   "metadata": {},
   "source": [
    "# Playfair Cipher:\n",
    "The Playfair cipher encrypts pairs of letters (digraphs), instead of\n",
    "single letters as is the case with simpler substitution ciphers such as the Caesar Cipher.\n",
    "The playfair cipher starts with creating a key table. The key table is a 5×5 grid of letters\n",
    "that will act as the key for encrypting your plaintext.\n",
    "The Playfair cipher uses a few simple rules relating to where the letters of each digraph\n",
    "are in relation to each other. The rules are:\n",
    "- If both letters are in the same column, take the letter below each one (going back to the top if at the bottom)\n",
    "- If both letters are in the same row, take the letter to the right of each one (going back to the left if at the farthest right)\n",
    "- If neither of the preceding two rules are true, form a rectangle with the two letters and take the letters on the horizontal opposite corner of the rectangle"
   ]
  },
  {
   "cell_type": "code",
   "execution_count": 4,
   "metadata": {},
   "outputs": [
    {
     "name": "stdout",
     "output_type": "stream",
     "text": [
      "Enter Key: monarchy\n",
      "Enter Message: instruments\n",
      "Encrypted Message:  gatlmzclrqtx\n"
     ]
    }
   ],
   "source": [
    "key=input(\"Enter Key: \")\n",
    "msg=input(\"Enter Message: \")\n",
    "alphas={'a':0,'b':0,'c':0,'d':0,'e':0,'f':0,'g':0,'h':0,'i':0,'k':0,'l':0,'m':0,'n':0,'o':0,'p':0,'q':0,'r':0,'s':0,'t':0,'u':0,'v':0,'w':0,'x':0,'y':0,'z':0}\n",
    "keylist=[['' for j in range(5)] for i in range(5)]\n",
    "lst=[]\n",
    "\n",
    "for i in key:\n",
    "    if(i=='j'):\n",
    "        lst.append('i')\n",
    "        alphas['i']=1\n",
    "    else:\n",
    "        lst.append(i)\n",
    "        alphas[i]=1\n",
    "        \n",
    "for i in alphas:\n",
    "    if(alphas[i]==0):\n",
    "        lst.append(i)\n",
    "k=0\n",
    "posMap={}\n",
    "for i in range(5):\n",
    "    for j in range(5):\n",
    "        keylist[i][j]=lst[k]\n",
    "        posMap[lst[k]]=[i,j]\n",
    "        k+=1\n",
    "        \n",
    "msg=msg.replace('j','i')\n",
    "msg=msg.replace(' ','')\n",
    "\n",
    "if(len(msg)%2!=0):\n",
    "    msg+='z';\n",
    "    \n",
    "encmsg=\"\"    \n",
    "for i in range(0,len(msg)-1,2):\n",
    "    if(posMap[msg[i]][0]==posMap[msg[i+1]][0]):\n",
    "        encmsg+=keylist[posMap[msg[i]][0]][(posMap[msg[i]][1]+1)%5]\n",
    "        encmsg+=keylist[posMap[msg[i+1]][0]][(posMap[msg[i+1]][1]+1)%5]\n",
    "    elif(posMap[msg[i]][1]==posMap[msg[i+1]][1]):\n",
    "        encmsg+=keylist[(posMap[msg[i]][0]+1)%5][posMap[msg[i]][1]]\n",
    "        encmsg+=keylist[(posMap[msg[i+1]][0]+1)%5][posMap[msg[i+1]][1]]\n",
    "    else:\n",
    "        encmsg+=keylist[posMap[msg[i]][0]][posMap[msg[i+1]][1]]\n",
    "        encmsg+=keylist[posMap[msg[i+1]][0]][posMap[msg[i]][1]]\n",
    "print(\"Encrypted Message: \",encmsg)   "
   ]
  }
 ],
 "metadata": {
  "kernelspec": {
   "display_name": "Python 3",
   "language": "python",
   "name": "python3"
  },
  "language_info": {
   "codemirror_mode": {
    "name": "ipython",
    "version": 3
   },
   "file_extension": ".py",
   "mimetype": "text/x-python",
   "name": "python",
   "nbconvert_exporter": "python",
   "pygments_lexer": "ipython3",
   "version": "3.7.6"
  }
 },
 "nbformat": 4,
 "nbformat_minor": 4
}
