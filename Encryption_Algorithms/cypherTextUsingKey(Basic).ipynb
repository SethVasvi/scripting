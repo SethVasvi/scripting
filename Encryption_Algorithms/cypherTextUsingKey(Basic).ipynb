{
 "cells": [
  {
   "cell_type": "code",
   "execution_count": 19,
   "metadata": {},
   "outputs": [
    {
     "name": "stdout",
     "output_type": "stream",
     "text": [
      "Enter Message: hello\n",
      "Enter Key: 4\n",
      "Choose The following Option: \n",
      "1: Encrypt The Message \n",
      "2: Decrypt The Message\n",
      "Choice: 1\n",
      "Encrypted Message: lipps\n"
     ]
    }
   ],
   "source": [
    "msg=input(\"Enter Message: \")\n",
    "key=int(input(\"Enter Key: \"))\n",
    "print(\"Choose The following Option: \\n1: Encrypt The Message \\n2: Decrypt The Message\")\n",
    "x=int(input(\"Choice: \"))\n",
    "if(x==1):\n",
    "    encmsg=\"\"\n",
    "    for i in msg:\n",
    "        if(i.isupper()):\n",
    "            encmsg+=chr((ord(i)+key-65)%26+65)\n",
    "        else:\n",
    "            encmsg+=chr((ord(i)+key-97)%26+97)\n",
    "        \n",
    "    print(\"Encrypted Message: \"+encmsg)\n",
    "else:\n",
    "    decmsg=\"\"\n",
    "    for i in msg:\n",
    "        if(i.isupper()):  \n",
    "            decmsg+=chr((ord(i)-key-65)%26+65)\n",
    "        else:\n",
    "            decmsg+=chr((ord(i)-key-97)%26+97)\n",
    "\n",
    "    print(\"Decrypted Message: \"+decmsg)\n",
    "    \n",
    "        "
   ]
  },
  {
   "cell_type": "code",
   "execution_count": 18,
   "metadata": {},
   "outputs": [
    {
     "name": "stdout",
     "output_type": "stream",
     "text": [
      "1513\n",
      "9457\n",
      "236\n",
      "5979\n",
      "8867\n",
      "1118\n",
      "8626\n",
      "3951\n",
      "2693\n",
      "3630\n"
     ]
    }
   ],
   "source": [
    "import random\n",
    "for i in range(10):\n",
    "    print(random.randint(1, 10000))"
   ]
  }
 ],
 "metadata": {
  "kernelspec": {
   "display_name": "Python 3",
   "language": "python",
   "name": "python3"
  },
  "language_info": {
   "codemirror_mode": {
    "name": "ipython",
    "version": 3
   },
   "file_extension": ".py",
   "mimetype": "text/x-python",
   "name": "python",
   "nbconvert_exporter": "python",
   "pygments_lexer": "ipython3",
   "version": "3.7.6"
  }
 },
 "nbformat": 4,
 "nbformat_minor": 4
}
